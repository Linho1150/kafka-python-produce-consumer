{
  "cells": [
    {
      "cell_type": "markdown",
      "metadata": {
        "id": "view-in-github",
        "colab_type": "text"
      },
      "source": [
        "<a href=\"https://colab.research.google.com/github/Linho1150/kafka-python-produce-consumer/blob/main/kafka-producer-consumer-example.ipynb\" target=\"_parent\"><img src=\"https://colab.research.google.com/assets/colab-badge.svg\" alt=\"Open In Colab\"/></a>"
      ]
    },
    {
      "cell_type": "code",
      "execution_count": 3,
      "metadata": {
        "colab": {
          "base_uri": "https://localhost:8080/"
        },
        "id": "qj5-yEdKJK3C",
        "outputId": "a860569d-e05e-4d21-f489-e68af6d4a89e"
      },
      "outputs": [
        {
          "output_type": "stream",
          "name": "stdout",
          "text": [
            "Looking in indexes: https://pypi.org/simple, https://us-python.pkg.dev/colab-wheels/public/simple/\n",
            "Collecting kafka-python\n",
            "  Downloading kafka_python-2.0.2-py2.py3-none-any.whl (246 kB)\n",
            "\u001b[K     |████████████████████████████████| 246 kB 4.9 MB/s \n",
            "\u001b[?25hInstalling collected packages: kafka-python\n",
            "Successfully installed kafka-python-2.0.2\n"
          ]
        }
      ],
      "source": [
        "!pip install kafka-python"
      ]
    },
    {
      "cell_type": "code",
      "execution_count": 12,
      "metadata": {
        "id": "lQfTGmWYI_vO",
        "colab": {
          "base_uri": "https://localhost:8080/"
        },
        "outputId": "f6b5a65e-5bd4-42eb-a65b-23a012ae8dd2"
      },
      "outputs": [
        {
          "output_type": "stream",
          "name": "stdout",
          "text": [
            "['streams-wordcount-KSTREAM-AGGREGATE-STATE-STORE-0000000003-repartition', 'my-kafka', 'connect-test', 'streams-plaintext-input', '__consumer_offsets', 'streams-wordcount-output', 'streams-planintext-input', 'streams-planintext-output', 'streams-plaintext-output', 'streams-wordcount-KSTREAM-AGGREGATE-STATE-STORE-0000000003-changelog']\n"
          ]
        },
        {
          "output_type": "stream",
          "name": "stderr",
          "text": [
            "WARNING:kafka.coordinator.consumer:group_id is None: disabling auto-commit.\n"
          ]
        },
        {
          "output_type": "stream",
          "name": "stdout",
          "text": [
            "Topic:  my-kafka Message:  b'Hello'\n",
            "Topic:  my-kafka Message:  b'Hello'\n",
            "Topic:  my-kafka Message:  b'Hello'\n",
            "Topic:  my-kafka Message:  b'Hello'\n",
            "Topic:  my-kafka Message:  b'Hello'\n",
            "Topic:  my-kafka Message:  b'Hello'\n",
            "Topic:  my-kafka Message:  b'Hello'\n",
            "Topic:  my-kafka Message:  b'Hello'\n",
            "Topic:  my-kafka Message:  b'Hello'\n",
            "Topic:  my-kafka Message:  b'Hello'\n",
            "Topic:  my-kafka Message:  b'Hello'\n",
            "Topic:  my-kafka Message:  b'Kafka'\n",
            "Topic:  my-kafka Message:  b'Kafka'\n",
            "Topic:  my-kafka Message:  b'Kafka'\n",
            "Topic:  my-kafka Message:  b'Kafka'\n",
            "Topic:  my-kafka Message:  b'Kafka'\n",
            "Topic:  my-kafka Message:  b'Kafka'\n",
            "Topic:  my-kafka Message:  b'Kafka'\n"
          ]
        },
        {
          "output_type": "stream",
          "name": "stderr",
          "text": [
            "ERROR:kafka.consumer.fetcher:Fetch to node 1 failed: Cancelled: <BrokerConnection node_id=1 host=43.201.95.87:9092 <connected> [IPv4 ('43.201.95.87', 9092)]>\n"
          ]
        },
        {
          "name": "stdout",
          "output_type": "stream",
          "text": [
            "exit\n"
          ]
        }
      ],
      "source": [
        "from datetime import datetime\n",
        "import threading, time\n",
        "\n",
        "from kafka import KafkaAdminClient, KafkaConsumer, KafkaProducer\n",
        "from kafka.admin import NewTopic\n",
        "\n",
        "#카프카 프로듀서 운영 객체\n",
        "class Producer():\n",
        "    bootstrap_servers='43.201.95.87:9092'\n",
        "    def sendMessage(self,topic_name:str, message:str):\n",
        "        '''Set Message to Producer\n",
        "            :param str topic_name: Name of the topic\n",
        "            :param str message: a message you want to send\n",
        "            :returns: producer send result\n",
        "        '''\n",
        "        producer = KafkaProducer(bootstrap_servers=Producer.bootstrap_servers)\n",
        "        producer.send(topic_name, message.encode('utf-8'))\n",
        "        producer.close()\n",
        "\n",
        "#카프카 스트리밍 프로듀서 운영 객체\n",
        "class StreamingProducer():\n",
        "    bootstrap_servers='43.201.95.87:9092'\n",
        "    def sendMessage(self, message:str):\n",
        "        '''Set Message to Producer (with Kafka Streaming topic)\n",
        "            :param str message: a message you want to send\n",
        "            :returns: producer send result\n",
        "        '''\n",
        "        producer = KafkaProducer(bootstrap_servers=Producer.bootstrap_servers)\n",
        "        producer.send('streams-plaintext-input', message.encode('utf-8'))\n",
        "        producer.close()\n",
        "\n",
        "#카프카 컨슈머 객체\n",
        "class Consumer():\n",
        "    bootstrap_servers = '43.201.95.87:9092'\n",
        "    def getMessage(self, topic_name:str):\n",
        "      '''Get Consumer All Message\n",
        "          :param str topic_name: Name of the topic\n",
        "          :returns: consmer message list\n",
        "      '''\n",
        "      consumer = KafkaConsumer(bootstrap_servers=Consumer.bootstrap_servers,\n",
        "                                auto_offset_reset='earliest',\n",
        "                                consumer_timeout_ms=1000)\n",
        "      consumer.subscribe([topic_name])\n",
        "      for message in consumer:\n",
        "        print(\"Topic: \",message.topic,\"Message: \",message.value)\n",
        "      consumer.close()\n",
        "\n",
        "#카프카 토픽 운영 객체\n",
        "class KafkaTopicAdministrator:\n",
        "    kafkaAdmin = KafkaAdminClient(bootstrap_servers='43.201.95.87:9092')\n",
        "\n",
        "    def setKafkaTopic(self, topic_name: str): # Set topic\n",
        "        '''Set topic list\n",
        "            :param str topic_name: Name of the topic you want to create\n",
        "            :returns: create result\n",
        "        '''\n",
        "        if not self.isKafkaTopic(topic_name):\n",
        "            topic = NewTopic(name=topic_name,\n",
        "                             num_partitions=1,\n",
        "                             replication_factor=1)\n",
        "            return KafkaTopicAdministrator.kafkaAdmin.create_topics([topic])\n",
        "        raise Exception(\"already exist\")\n",
        "\n",
        "    def getKafkaTopicList(self) -> list:\n",
        "        '''Get topic list\n",
        "            :returns: topic List\n",
        "        '''\n",
        "        return KafkaTopicAdministrator.kafkaAdmin.list_topics()\n",
        "\n",
        "    def deleteKafkaTopic(self, topic_name: str) -> list:\n",
        "        '''Check if topic exists\n",
        "            :param str topic_name: Name of the topic you want to remove\n",
        "            :returns: delete result\n",
        "        '''   \n",
        "        if self.isKafkaTopic(topic_name):\n",
        "            return KafkaTopicAdministrator.kafkaAdmin.delete_topics([topic_name])\n",
        "        raise Exception(\"no topic\")\n",
        "\n",
        "    def isKafkaTopic(self, topic_name: str):\n",
        "        '''Check if topic exists\n",
        "            :param str topic_name: The topic name you want to check\n",
        "            :returns: topic lists\n",
        "        '''  \n",
        "        if topic_name in KafkaTopicAdministrator.kafkaAdmin.list_topics():\n",
        "            return True\n",
        "        return False\n",
        "\n",
        "\n",
        "if __name__ == \"__main__\":\n",
        "    # Kafka Topic Manager\n",
        "    kafkaAdmin = KafkaTopicAdministrator() # Kafka 관리자 객체 생성\n",
        "    kafkaAdmin.setKafkaTopic(\"my-kafka-example\") # Kafka 토픽 생성\n",
        "    kafkaAdmin.deleteKafkaTopic(\"my-kafka-example\") # Kafka 토픽 제거\n",
        "    print(kafkaAdmin.getKafkaTopicList()) #Kafka 토픽 리스트\n",
        "\n",
        "    # Kafka Producer & Consumer\n",
        "    producer=Producer()\n",
        "    producer.sendMessage(\"my-kafka\",\"Kafka\")\n",
        "    consumer=Consumer()\n",
        "    consumer.getMessage(\"my-kafka\")\n",
        "\n",
        "    # Kafka Streaming Producer\n",
        "    producer = KafkaProducer(bootstrap_servers='43.201.95.87:9092')\n",
        "    streamingProducer=StreamingProducer()\n",
        "    while True:\n",
        "      # exit is break\n",
        "      inputTxt=input()\n",
        "      if inputTxt == \"exit\":\n",
        "        break\n",
        "      streamingProducer.sendMessage(inputTxt)\n",
        "\n"
      ]
    }
  ],
  "metadata": {
    "colab": {
      "provenance": [],
      "include_colab_link": true
    },
    "kernelspec": {
      "display_name": "Python 3",
      "name": "python3"
    },
    "language_info": {
      "name": "python"
    }
  },
  "nbformat": 4,
  "nbformat_minor": 0
}